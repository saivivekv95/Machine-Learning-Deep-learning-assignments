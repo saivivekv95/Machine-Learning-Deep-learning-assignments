{
 "cells": [
  {
   "cell_type": "markdown",
   "metadata": {},
   "source": [
    "# 1. Write a function to compute 5/0 and use try/except to catch the exceptions"
   ]
  },
  {
   "cell_type": "code",
   "execution_count": 18,
   "metadata": {},
   "outputs": [
    {
     "name": "stdout",
     "output_type": "stream",
     "text": [
      "Can't divisible by 0\n",
      "Successfully entered\n"
     ]
    }
   ],
   "source": [
    "def div():\n",
    "    return 5/0\n",
    "\n",
    "try:\n",
    "    div()\n",
    "except ZeroDivisionError as ze:\n",
    "    print(\"Can't divisible by 0\")\n",
    "    print(\"Successfully entered\")\n",
    "except:\n",
    "    print(\"Exception\")"
   ]
  },
  {
   "cell_type": "markdown",
   "metadata": {},
   "source": [
    "# 2.Implement a Python program to generate all sentences"
   ]
  },
  {
   "cell_type": "code",
   "execution_count": 17,
   "metadata": {},
   "outputs": [
    {
     "name": "stdout",
     "output_type": "stream",
     "text": [
      "Americans  play Baseball.\n",
      "Americans  play Cricket.\n",
      "Americans  watch Baseball.\n",
      "Americans  watch Cricket.\n",
      "Indians play Baseball.\n",
      "Indians play Cricket.\n",
      "Indians watch Baseball.\n",
      "Indians watch Cricket.\n"
     ]
    }
   ],
   "source": [
    "subjects=[\"Americans \",\"Indians\"]\n",
    "verbs=[\"play\",\"watch\"]\n",
    "objects=[\"Baseball\",\"Cricket\"]\n",
    "\n",
    "syntax = [(sub+' '+vrb +' ' + Obj +'.') for sub in subjects for vrb in verbs for Obj in objects]\n",
    "\n",
    "for x in syntax:\n",
    "    print(x)"
   ]
  },
  {
   "cell_type": "code",
   "execution_count": null,
   "metadata": {},
   "outputs": [],
   "source": []
  }
 ],
 "metadata": {
  "kernelspec": {
   "display_name": "Python (myenv)",
   "language": "python",
   "name": "myenv"
  },
  "language_info": {
   "codemirror_mode": {
    "name": "ipython",
    "version": 3
   },
   "file_extension": ".py",
   "mimetype": "text/x-python",
   "name": "python",
   "nbconvert_exporter": "python",
   "pygments_lexer": "ipython3",
   "version": "3.7.4"
  }
 },
 "nbformat": 4,
 "nbformat_minor": 2
}
