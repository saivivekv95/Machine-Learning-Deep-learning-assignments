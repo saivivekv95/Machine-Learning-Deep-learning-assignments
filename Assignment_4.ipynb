{
 "cells": [
  {
   "cell_type": "markdown",
   "metadata": {},
   "source": [
    "# Question 1.1"
   ]
  },
  {
   "cell_type": "code",
   "execution_count": 15,
   "metadata": {},
   "outputs": [
    {
     "name": "stdout",
     "output_type": "stream",
     "text": [
      "Enter a value:11\n",
      "Enter b value:12\n",
      "Enter c value:13\n",
      "area : 61.48170459575759\n"
     ]
    }
   ],
   "source": [
    "class parent:\n",
    "    def __init__(self,a,b,c):\n",
    "        self.a = float(a)\n",
    "        self.b = float(b)\n",
    "        self.c = float(c)\n",
    "a= int(input(\"Enter a value:\"))\n",
    "b= int(input(\"Enter b value:\"))\n",
    "c= int(input(\"Enter c value:\"))\n",
    "\n",
    "class triangle(parent):\n",
    "    def __init__(self,a,b,c):\n",
    "        super().__init__(a,b,c)\n",
    "\n",
    "    def get_area(self):\n",
    "        s = (a + b + c) / 2\n",
    "        return (s*(s-a)*(s-b)*(s-c)) ** 0.5        \n",
    "\n",
    "t = triangle(a,b,c)\n",
    "print(\"area : {}\".format(t.get_area()))"
   ]
  },
  {
   "cell_type": "markdown",
   "metadata": {},
   "source": [
    "# 1.2"
   ]
  },
  {
   "cell_type": "code",
   "execution_count": 23,
   "metadata": {},
   "outputs": [
    {
     "name": "stdout",
     "output_type": "stream",
     "text": [
      "['INeuron', 'classes', 'good.', 'learn', 'things']\n"
     ]
    }
   ],
   "source": [
    "def filter_long_words(n, str):  \n",
    "    word_len = []  \n",
    "    txt = str.split(\" \")  \n",
    "    for x in txt:  \n",
    "        if len(x) > n:  \n",
    "            word_len.append(x)  \n",
    "    return word_len   \n",
    "print(filter_long_words(4, \"INeuron classes are good. One can learn many things\"))  "
   ]
  },
  {
   "cell_type": "markdown",
   "metadata": {},
   "source": [
    "# Question 2.1"
   ]
  },
  {
   "cell_type": "code",
   "execution_count": 47,
   "metadata": {},
   "outputs": [
    {
     "name": "stdout",
     "output_type": "stream",
     "text": [
      "Please enter words:dshfbj,alvj,qoqoejf,lkfvnoadnv\n",
      "Output: [6, 4, 7, 10]\n"
     ]
    }
   ],
   "source": [
    "def len_word(List):\n",
    "    return list(map(len, List))\n",
    "\n",
    "words_list = list(input(\"Please enter words:\").split(\",\"))\n",
    "\n",
    "List=[x.strip() for x in words_list]\n",
    "\n",
    "Words_length = len_word(List)\n",
    "\n",
    "print(\"Output:\",Words_length)"
   ]
  },
  {
   "cell_type": "markdown",
   "metadata": {},
   "source": [
    "# 2.2"
   ]
  },
  {
   "cell_type": "code",
   "execution_count": 63,
   "metadata": {},
   "outputs": [
    {
     "name": "stdout",
     "output_type": "stream",
     "text": [
      "Enter string\n",
      "v\n",
      "The enterted character is not Vowel\n"
     ]
    }
   ],
   "source": [
    "def checkvowel(inputchar):\n",
    "    if (inputchar == 'a' or inputchar == 'A' or\n",
    "    inputchar == \"e\" or inputchar == \"E\" or\n",
    "    inputchar == \"i\" or inputchar == \"I\" or\n",
    "    inputchar == \"o\" or inputchar == \"O\" or\n",
    "    inputchar == \"u\" or inputchar == \"U\"):\n",
    "        return\"True\"\n",
    "    \n",
    "    else:\n",
    "        return\"False\"\n",
    "    \n",
    "print(\"Enter string\")\n",
    "inputchar = input()\n",
    "\n",
    "if checkvowel(inputchar) == \"True\":\n",
    "    print(\"The enterted character is Vowel\")\n",
    "else:\n",
    "    print(\"The enterted character is not Vowel\")"
   ]
  }
 ],
 "metadata": {
  "kernelspec": {
   "display_name": "Python (myenv)",
   "language": "python",
   "name": "myenv"
  },
  "language_info": {
   "codemirror_mode": {
    "name": "ipython",
    "version": 3
   },
   "file_extension": ".py",
   "mimetype": "text/x-python",
   "name": "python",
   "nbconvert_exporter": "python",
   "pygments_lexer": "ipython3",
   "version": "3.7.4"
  }
 },
 "nbformat": 4,
 "nbformat_minor": 2
}
